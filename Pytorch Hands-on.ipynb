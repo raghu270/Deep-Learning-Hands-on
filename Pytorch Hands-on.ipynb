{
 "cells": [
  {
   "cell_type": "code",
   "execution_count": 21,
   "id": "9fac38e6",
   "metadata": {},
   "outputs": [],
   "source": [
    "import tensorflow as tf\n",
    "from tensorflow.keras import layers,models,losses"
   ]
  },
  {
   "cell_type": "code",
   "execution_count": 2,
   "id": "cce17a31",
   "metadata": {},
   "outputs": [],
   "source": [
    "import numpy as np"
   ]
  },
  {
   "cell_type": "code",
   "execution_count": 13,
   "id": "5a7e5ad2",
   "metadata": {},
   "outputs": [],
   "source": [
    "x=np.array([1,2,3,4,5,6,7,8,9,10])\n",
    "y=np.array([4,8,12,16,20,24,28,32,36,40])"
   ]
  },
  {
   "cell_type": "code",
   "execution_count": 14,
   "id": "992aba1a",
   "metadata": {},
   "outputs": [],
   "source": [
    "model=models.Sequential([\n",
    "    layers.Dense(1,input_shape=(1,))\n",
    "])"
   ]
  },
  {
   "cell_type": "code",
   "execution_count": 27,
   "id": "54ca1255",
   "metadata": {},
   "outputs": [],
   "source": [
    "model.compile(optimizer='sgd',\n",
    "             loss=losses.mean_absolute_error,\n",
    "             metrics=['accuracy'])"
   ]
  },
  {
   "cell_type": "code",
   "execution_count": 29,
   "id": "18cdec56",
   "metadata": {},
   "outputs": [
    {
     "name": "stdout",
     "output_type": "stream",
     "text": [
      "Epoch 1/50\n",
      "1/1 [==============================] - 0s 18ms/step - loss: 25.4937 - accuracy: 0.0000e+00\n",
      "Epoch 2/50\n",
      "1/1 [==============================] - 0s 16ms/step - loss: 25.1812 - accuracy: 0.0000e+00\n",
      "Epoch 3/50\n",
      "1/1 [==============================] - 0s 13ms/step - loss: 24.8687 - accuracy: 0.0000e+00\n",
      "Epoch 4/50\n",
      "1/1 [==============================] - 0s 13ms/step - loss: 24.5562 - accuracy: 0.0000e+00\n",
      "Epoch 5/50\n",
      "1/1 [==============================] - 0s 13ms/step - loss: 24.2437 - accuracy: 0.0000e+00\n",
      "Epoch 6/50\n",
      "1/1 [==============================] - 0s 13ms/step - loss: 23.9312 - accuracy: 0.0000e+00\n",
      "Epoch 7/50\n",
      "1/1 [==============================] - 0s 14ms/step - loss: 23.6187 - accuracy: 0.0000e+00\n",
      "Epoch 8/50\n",
      "1/1 [==============================] - 0s 14ms/step - loss: 23.3062 - accuracy: 0.0000e+00\n",
      "Epoch 9/50\n",
      "1/1 [==============================] - 0s 13ms/step - loss: 22.9937 - accuracy: 0.0000e+00\n",
      "Epoch 10/50\n",
      "1/1 [==============================] - 0s 4ms/step - loss: 22.6812 - accuracy: 0.0000e+00\n",
      "Epoch 11/50\n",
      "1/1 [==============================] - 0s 0s/step - loss: 22.3687 - accuracy: 0.0000e+00\n",
      "Epoch 12/50\n",
      "1/1 [==============================] - 0s 4ms/step - loss: 22.0562 - accuracy: 0.0000e+00\n",
      "Epoch 13/50\n",
      "1/1 [==============================] - 0s 4ms/step - loss: 21.7437 - accuracy: 0.0000e+00\n",
      "Epoch 14/50\n",
      "1/1 [==============================] - 0s 4ms/step - loss: 21.4312 - accuracy: 0.0000e+00\n",
      "Epoch 15/50\n",
      "1/1 [==============================] - 0s 3ms/step - loss: 21.1187 - accuracy: 0.0000e+00\n",
      "Epoch 16/50\n",
      "1/1 [==============================] - 0s 8ms/step - loss: 20.8062 - accuracy: 0.0000e+00\n",
      "Epoch 17/50\n",
      "1/1 [==============================] - 0s 10ms/step - loss: 20.4937 - accuracy: 0.0000e+00\n",
      "Epoch 18/50\n",
      "1/1 [==============================] - 0s 16ms/step - loss: 20.1812 - accuracy: 0.0000e+00\n",
      "Epoch 19/50\n",
      "1/1 [==============================] - 0s 17ms/step - loss: 19.8687 - accuracy: 0.0000e+00\n",
      "Epoch 20/50\n",
      "1/1 [==============================] - 0s 17ms/step - loss: 19.5562 - accuracy: 0.0000e+00\n",
      "Epoch 21/50\n",
      "1/1 [==============================] - 0s 16ms/step - loss: 19.2437 - accuracy: 0.0000e+00\n",
      "Epoch 22/50\n",
      "1/1 [==============================] - 0s 16ms/step - loss: 18.9312 - accuracy: 0.0000e+00\n",
      "Epoch 23/50\n",
      "1/1 [==============================] - 0s 8ms/step - loss: 18.6187 - accuracy: 0.0000e+00\n",
      "Epoch 24/50\n",
      "1/1 [==============================] - 0s 10ms/step - loss: 18.3062 - accuracy: 0.0000e+00\n",
      "Epoch 25/50\n",
      "1/1 [==============================] - 0s 11ms/step - loss: 17.9937 - accuracy: 0.0000e+00\n",
      "Epoch 26/50\n",
      "1/1 [==============================] - 0s 11ms/step - loss: 17.6812 - accuracy: 0.0000e+00\n",
      "Epoch 27/50\n",
      "1/1 [==============================] - 0s 16ms/step - loss: 17.3687 - accuracy: 0.0000e+00\n",
      "Epoch 28/50\n",
      "1/1 [==============================] - 0s 12ms/step - loss: 17.0562 - accuracy: 0.0000e+00\n",
      "Epoch 29/50\n",
      "1/1 [==============================] - 0s 12ms/step - loss: 16.7437 - accuracy: 0.0000e+00\n",
      "Epoch 30/50\n",
      "1/1 [==============================] - 0s 13ms/step - loss: 16.4312 - accuracy: 0.0000e+00\n",
      "Epoch 31/50\n",
      "1/1 [==============================] - 0s 12ms/step - loss: 16.1187 - accuracy: 0.0000e+00\n",
      "Epoch 32/50\n",
      "1/1 [==============================] - 0s 13ms/step - loss: 15.8062 - accuracy: 0.0000e+00\n",
      "Epoch 33/50\n",
      "1/1 [==============================] - 0s 11ms/step - loss: 15.4937 - accuracy: 0.0000e+00\n",
      "Epoch 34/50\n",
      "1/1 [==============================] - 0s 13ms/step - loss: 15.1812 - accuracy: 0.0000e+00\n",
      "Epoch 35/50\n",
      "1/1 [==============================] - 0s 12ms/step - loss: 14.8687 - accuracy: 0.0000e+00\n",
      "Epoch 36/50\n",
      "1/1 [==============================] - 0s 11ms/step - loss: 14.5562 - accuracy: 0.0000e+00\n",
      "Epoch 37/50\n",
      "1/1 [==============================] - 0s 13ms/step - loss: 14.2437 - accuracy: 0.0000e+00\n",
      "Epoch 38/50\n",
      "1/1 [==============================] - 0s 17ms/step - loss: 13.9312 - accuracy: 0.0000e+00\n",
      "Epoch 39/50\n",
      "1/1 [==============================] - 0s 11ms/step - loss: 13.6187 - accuracy: 0.0000e+00\n",
      "Epoch 40/50\n",
      "1/1 [==============================] - 0s 8ms/step - loss: 13.3062 - accuracy: 0.0000e+00\n",
      "Epoch 41/50\n",
      "1/1 [==============================] - 0s 6ms/step - loss: 12.9937 - accuracy: 0.0000e+00\n",
      "Epoch 42/50\n",
      "1/1 [==============================] - 0s 5ms/step - loss: 12.6812 - accuracy: 0.0000e+00\n",
      "Epoch 43/50\n",
      "1/1 [==============================] - 0s 6ms/step - loss: 12.3687 - accuracy: 0.0000e+00\n",
      "Epoch 44/50\n",
      "1/1 [==============================] - 0s 8ms/step - loss: 12.0562 - accuracy: 0.0000e+00\n",
      "Epoch 45/50\n",
      "1/1 [==============================] - 0s 15ms/step - loss: 11.7437 - accuracy: 0.0000e+00\n",
      "Epoch 46/50\n",
      "1/1 [==============================] - 0s 17ms/step - loss: 11.4312 - accuracy: 0.0000e+00\n",
      "Epoch 47/50\n",
      "1/1 [==============================] - 0s 9ms/step - loss: 11.1187 - accuracy: 0.0000e+00\n",
      "Epoch 48/50\n",
      "1/1 [==============================] - 0s 11ms/step - loss: 10.8062 - accuracy: 0.0000e+00\n",
      "Epoch 49/50\n",
      "1/1 [==============================] - 0s 17ms/step - loss: 10.4937 - accuracy: 0.0000e+00\n",
      "Epoch 50/50\n",
      "1/1 [==============================] - 0s 12ms/step - loss: 10.1812 - accuracy: 0.0000e+00\n"
     ]
    },
    {
     "data": {
      "text/plain": [
       "<keras.callbacks.History at 0x2c214933760>"
      ]
     },
     "execution_count": 29,
     "metadata": {},
     "output_type": "execute_result"
    }
   ],
   "source": [
    "model.fit(x,y,epochs=50)"
   ]
  },
  {
   "cell_type": "code",
   "execution_count": 30,
   "id": "b2fc534c",
   "metadata": {},
   "outputs": [
    {
     "name": "stdout",
     "output_type": "stream",
     "text": [
      "1/1 [==============================] - 0s 149ms/step\n"
     ]
    },
    {
     "data": {
      "text/plain": [
       "array([[23.6126]], dtype=float32)"
      ]
     },
     "execution_count": 30,
     "metadata": {},
     "output_type": "execute_result"
    }
   ],
   "source": [
    "model.predict([11])"
   ]
  },
  {
   "cell_type": "code",
   "execution_count": 1,
   "id": "3f978e8c",
   "metadata": {},
   "outputs": [],
   "source": [
    "import torch\n",
    "import torch.nn as nn\n",
    "import torch.optim as optim"
   ]
  },
  {
   "cell_type": "code",
   "execution_count": 32,
   "id": "9e3285b8",
   "metadata": {},
   "outputs": [
    {
     "name": "stdout",
     "output_type": "stream",
     "text": [
      "Collecting torch\n",
      "  Downloading torch-2.1.1-cp39-cp39-win_amd64.whl (192.2 MB)\n",
      "     ------------------------------------ 192.2/192.2 MB 570.7 kB/s eta 0:00:00\n",
      "Requirement already satisfied: jinja2 in c:\\users\\raghu\\anaconda3\\lib\\site-packages (from torch) (3.1.2)\n",
      "Requirement already satisfied: networkx in c:\\users\\raghu\\anaconda3\\lib\\site-packages (from torch) (2.8.4)\n",
      "Requirement already satisfied: sympy in c:\\users\\raghu\\anaconda3\\lib\\site-packages (from torch) (1.10.1)\n",
      "Requirement already satisfied: fsspec in c:\\users\\raghu\\anaconda3\\lib\\site-packages (from torch) (2022.7.1)\n",
      "Requirement already satisfied: typing-extensions in c:\\users\\raghu\\anaconda3\\lib\\site-packages (from torch) (4.3.0)\n",
      "Requirement already satisfied: filelock in c:\\users\\raghu\\anaconda3\\lib\\site-packages (from torch) (3.12.2)\n",
      "Requirement already satisfied: MarkupSafe>=2.0 in c:\\users\\raghu\\anaconda3\\lib\\site-packages (from jinja2->torch) (2.1.3)\n",
      "Requirement already satisfied: mpmath>=0.19 in c:\\users\\raghu\\anaconda3\\lib\\site-packages (from sympy->torch) (1.2.1)\n",
      "Installing collected packages: torch\n",
      "Successfully installed torch-2.1.1\n",
      "Note: you may need to restart the kernel to use updated packages.\n"
     ]
    }
   ],
   "source": [
    "pip install torch"
   ]
  },
  {
   "cell_type": "code",
   "execution_count": 8,
   "id": "24d5d49e",
   "metadata": {},
   "outputs": [],
   "source": [
    "class Net(nn.Module):\n",
    "    def __init__(self):\n",
    "        super(Net,self).__init__()\n",
    "        self.fc1=nn.Linear(1,10)\n",
    "        self.fc2=nn.Linear(10,1)\n",
    "    def forward(self,x):\n",
    "        x=torch.relu(self.fc1(x))\n",
    "        x=self.fc2(x)\n",
    "        return x\n",
    "net=Net()\n"
   ]
  },
  {
   "cell_type": "code",
   "execution_count": 9,
   "id": "3e0e71c2",
   "metadata": {},
   "outputs": [],
   "source": [
    "criterion=nn.MSELoss()\n",
    "optimizer=optim.SGD(net.parameters(),lr=0.01)\n",
    "x=torch.randn(20,1)\n",
    "y=x*2"
   ]
  },
  {
   "cell_type": "code",
   "execution_count": 10,
   "id": "975af031",
   "metadata": {},
   "outputs": [],
   "source": [
    "for epoch in range(100):\n",
    "    optimizer.zero_grad()\n",
    "    outputs=net(x)\n",
    "    loss=criterion(outputs,y)\n",
    "    loss.backward()\n",
    "    optimizer.step()"
   ]
  },
  {
   "cell_type": "code",
   "execution_count": 11,
   "id": "66230771",
   "metadata": {},
   "outputs": [
    {
     "name": "stdout",
     "output_type": "stream",
     "text": [
      "Finished Training\n",
      "tensor([[-0.1244],\n",
      "        [-1.5127],\n",
      "        [-1.7888],\n",
      "        [ 0.0353],\n",
      "        [-0.2576],\n",
      "        [-0.1378],\n",
      "        [ 1.7822],\n",
      "        [ 1.0329],\n",
      "        [ 0.3886],\n",
      "        [-0.3868],\n",
      "        [ 3.6726],\n",
      "        [ 0.8855],\n",
      "        [ 0.9863],\n",
      "        [ 0.0448],\n",
      "        [-1.3333],\n",
      "        [-0.9765],\n",
      "        [ 1.9148],\n",
      "        [-0.8168],\n",
      "        [-0.9432],\n",
      "        [ 0.4331]])\n",
      "tensor([[-0.2488],\n",
      "        [-3.0254],\n",
      "        [-3.5775],\n",
      "        [ 0.0706],\n",
      "        [-0.5152],\n",
      "        [-0.2756],\n",
      "        [ 3.5644],\n",
      "        [ 2.0657],\n",
      "        [ 0.7772],\n",
      "        [-0.7735],\n",
      "        [ 7.3452],\n",
      "        [ 1.7711],\n",
      "        [ 1.9727],\n",
      "        [ 0.0896],\n",
      "        [-2.6666],\n",
      "        [-1.9529],\n",
      "        [ 3.8295],\n",
      "        [-1.6337],\n",
      "        [-1.8864],\n",
      "        [ 0.8662]])\n"
     ]
    }
   ],
   "source": [
    "print('Finished Training')\n",
    "print(x)\n",
    "print(y)"
   ]
  },
  {
   "cell_type": "code",
   "execution_count": 12,
   "id": "2f9e9e1b",
   "metadata": {},
   "outputs": [
    {
     "name": "stdout",
     "output_type": "stream",
     "text": [
      "tensor([[-1.2936]])\n"
     ]
    },
    {
     "data": {
      "text/plain": [
       "tensor([[-2.5088]], grad_fn=<AddmmBackward0>)"
      ]
     },
     "execution_count": 12,
     "metadata": {},
     "output_type": "execute_result"
    }
   ],
   "source": [
    "x_test=torch.randn(1,1)\n",
    "print(x_test)\n",
    "prediction=net(x_test)\n",
    "prediction"
   ]
  },
  {
   "cell_type": "code",
   "execution_count": null,
   "id": "e0f3d2c1",
   "metadata": {},
   "outputs": [],
   "source": []
  }
 ],
 "metadata": {
  "kernelspec": {
   "display_name": "Python 3 (ipykernel)",
   "language": "python",
   "name": "python3"
  },
  "language_info": {
   "codemirror_mode": {
    "name": "ipython",
    "version": 3
   },
   "file_extension": ".py",
   "mimetype": "text/x-python",
   "name": "python",
   "nbconvert_exporter": "python",
   "pygments_lexer": "ipython3",
   "version": "3.9.13"
  }
 },
 "nbformat": 4,
 "nbformat_minor": 5
}
